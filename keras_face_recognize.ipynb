{
 "cells": [
  {
   "cell_type": "code",
   "execution_count": 89,
   "metadata": {},
   "outputs": [],
   "source": [
    "import numpy as np\n",
    "import os, time\n",
    "import cv2\n",
    "from skimage.transform import resize\n",
    "from scipy.spatial import distance\n",
    "from keras.models import load_model"
   ]
  },
  {
   "cell_type": "code",
   "execution_count": 90,
   "metadata": {},
   "outputs": [],
   "source": [
    "validPicPath = 'members/'\n",
    "\n",
    "valid = \"0.jpg\"\n",
    "\n",
    "compares = [\"trump.jpg\", \"obama.jpg\" ]\n",
    "\n",
    "# OpenCV Cascade classifier detect face\n",
    "cascade_path = r'C:\\Users\\root\\PycharmProjects\\Webcam\\model\\haarcascade_frontalface_alt2.xml'\n",
    "\n",
    "# Facenet model need 160×160 image size\n",
    "image_size = 160\n",
    "\n",
    "# MS-Celeb-1M dataset pretrained Keras model\n",
    "model_path = 'model/facenet_keras.h5'\n",
    "\n",
    "model = load_model(model_path)"
   ]
  },
  {
   "cell_type": "code",
   "execution_count": 91,
   "metadata": {},
   "outputs": [],
   "source": [
    "def prewhiten(x):\n",
    "\n",
    "    if x.ndim == 4:\n",
    "        axis = (1, 2, 3)\n",
    "        size = x[0].size\n",
    "\n",
    "    elif x.ndim == 3:\n",
    "        axis = (0, 1, 2)\n",
    "        size = x.size\n",
    "\n",
    "    else:\n",
    "        raise ValueError(\"Dimension should be 3 or 4\")\n",
    "\n",
    "    mean = np.mean(x, axis=axis, keepdims=True)\n",
    "    std = np.std(x, axis=axis, keepdims=True)\n",
    "    std_adj = np.maximum(std, 1.0/np.sqrt(size))\n",
    "    y = (x - mean) / std_adj\n",
    "\n",
    "    return y"
   ]
  },
  {
   "cell_type": "code",
   "execution_count": 92,
   "metadata": {},
   "outputs": [],
   "source": [
    "#L2\n",
    "def l2_normalize(x, axis=-1, epsilon=1e-10):\n",
    "    output = x / np.sqrt(np.maximum(np.sum(np.square(x), axis=axis, keepdims=True), epsilon))\n",
    "\n",
    "    return output\n",
    "\n",
    "# detect face area, extract face, and resize face img \n",
    "def align_image(img, margin):\n",
    "    cascade = cv2.CascadeClassifier(cascade_path)\n",
    "    \n",
    "    faces = cascade.detectMultiScale(img, scaleFactor=1.1, minNeighbors=3)\n",
    "\n",
    "    if(len(faces)>0):\n",
    "        (x, y, w, h) = faces[0]\n",
    "        face = img[y:y+h, x:x+w]\n",
    "        faceMargin = np.zeros((h+margin*2, w+margin*2, 3), dtype = \"uint8\")\n",
    "\n",
    "        faceMargin[margin:margin+h, margin:margin+w] = face\n",
    "#         cv2.imwrite(str(time.time())+\".jpg\", faceMargin)\n",
    "\n",
    "        aligned = resize(faceMargin, (image_size, image_size), mode='reflect')\n",
    "#         cv2.imwrite(str(time.time())+\"_aligned.jpg\", aligned)\n",
    "\n",
    "        return aligned\n",
    "\n",
    "    else:\n",
    "        return None\n",
    "\n",
    "# img preprocss\n",
    "def preProcess(img):\n",
    "    whitenImg = prewhiten(img)\n",
    "    whitenImg = whitenImg[np.newaxis, :]\n",
    "\n",
    "    return whitenImg"
   ]
  },
  {
   "cell_type": "code",
   "execution_count": 93,
   "metadata": {},
   "outputs": [
    {
     "name": "stdout",
     "output_type": "stream",
     "text": [
      "Diff with trump.jpg is 1.4174655675888062\n",
      "Diff with obama.jpg is 0.6872093081474304\n"
     ]
    }
   ],
   "source": [
    "\n",
    "imgValid = validPicPath + valid\n",
    "\n",
    "aligned = align_image(cv2.imread(imgValid), 6)\n",
    "\n",
    "if(aligned is None):\n",
    "\n",
    "    print(\"Cannot find any face in image: {}\".format(imgValid))\n",
    "\n",
    "else:\n",
    "\n",
    "    faceImg = preProcess(aligned)\n",
    "    #–> model會輸出128維度的臉孔特徵向量，接著我們將它們合併並進行L2正規化。Z\n",
    "\n",
    "    embs_valid = l2_normalize(np.concatenate(model.predict(faceImg)))\n",
    "\n",
    "  #同上方的valid圖片，依序取得各圖片人臉的臉孔特徵向量，再與valid進行歐氏距離計算。\n",
    "\n",
    "    for member in compares:\n",
    "\n",
    "        img_file = validPicPath + member\n",
    "\n",
    "        aligned = align_image(cv2.imread(img_file), 6)\n",
    "\n",
    "        if(aligned is not None):\n",
    "\n",
    "            faceImg = preProcess(aligned)\n",
    "\n",
    "            embs = l2_normalize(np.concatenate(model.predict(faceImg)))\n",
    "\n",
    "            distanceNum = distance.euclidean(embs_valid, embs)\n",
    "\n",
    "            print(\"Diff with {} is {}\".format(member, distanceNum))"
   ]
  }
 ],
 "metadata": {
  "kernelspec": {
   "display_name": "Python 3",
   "language": "python",
   "name": "python3"
  },
  "language_info": {
   "codemirror_mode": {
    "name": "ipython",
    "version": 3
   },
   "file_extension": ".py",
   "mimetype": "text/x-python",
   "name": "python",
   "nbconvert_exporter": "python",
   "pygments_lexer": "ipython3",
   "version": "3.6.7"
  },
  "toc": {
   "base_numbering": 1,
   "nav_menu": {},
   "number_sections": true,
   "sideBar": true,
   "skip_h1_title": false,
   "title_cell": "Table of Contents",
   "title_sidebar": "Contents",
   "toc_cell": false,
   "toc_position": {},
   "toc_section_display": true,
   "toc_window_display": false
  }
 },
 "nbformat": 4,
 "nbformat_minor": 4
}
